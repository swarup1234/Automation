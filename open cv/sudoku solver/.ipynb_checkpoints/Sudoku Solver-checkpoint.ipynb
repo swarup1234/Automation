{
 "cells": [
  {
   "cell_type": "code",
   "execution_count": 20,
   "id": "08c7836a",
   "metadata": {},
   "outputs": [],
   "source": [
    "# sudoku solve opencv\n",
    "import cv2\n",
    "import numpy as np\n",
    "#import tensorflow as tf"
   ]
  },
  {
   "cell_type": "code",
   "execution_count": 21,
   "id": "fe924b89",
   "metadata": {},
   "outputs": [],
   "source": [
    "# path of the image \n",
    "pathimage = \"./images.jpg\"\n",
    "hgt = 450\n",
    "wdt = 450"
   ]
  },
  {
   "cell_type": "code",
   "execution_count": 22,
   "id": "426100df",
   "metadata": {},
   "outputs": [],
   "source": [
    "# preparing the image \n",
    "img = cv2.imread(pathimage)\n",
    "img = cv2.resize(img,(hgt,wdt))\n",
    "imgblank = np.zeros((hgt,wdt,3),np.uint8)"
   ]
  },
  {
   "cell_type": "code",
   "execution_count": 23,
   "id": "411ffb6e",
   "metadata": {},
   "outputs": [],
   "source": [
    "# pre processing the image\n",
    "def preprocess(img):\n",
    "    imgGray = cv2.cvtColor(img,cv2.COLOR_BGR2GRAY)\n",
    "    imgBlur = cv2.GaussianBlur(imgGray,(5,5),1)\n",
    "    imgThreshold = cv2.adaptiveThreshold(imgBlur,255,1,1,11,2)\n",
    "    return(imgThreshold)\n"
   ]
  },
  {
   "cell_type": "code",
   "execution_count": 24,
   "id": "7ea89740",
   "metadata": {},
   "outputs": [],
   "source": [
    "# pre processing \n",
    "imgpre = preprocess(img)"
   ]
  },
  {
   "cell_type": "code",
   "execution_count": 6,
   "id": "4bbe058e",
   "metadata": {},
   "outputs": [],
   "source": [
    "# stack images example function \n",
    "def stackImages(scale,imgArray):\n",
    "    rows = len(imgArray)\n",
    "    cols = len(imgArray[0])\n",
    "    rowsAvailable = isinstance(imgArray[0], list)\n",
    "    width = imgArray[0][0].shape[1]\n",
    "    height = imgArray[0][0].shape[0]\n",
    "    if rowsAvailable:\n",
    "        for x in range ( 0, rows):\n",
    "            for y in range(0, cols):\n",
    "                if imgArray[x][y].shape[:2] == imgArray[0][0].shape [:2]:\n",
    "                    imgArray[x][y] = cv2.resize(imgArray[x][y], (0, 0), None, scale, scale)\n",
    "                else:\n",
    "                    imgArray[x][y] = cv2.resize(imgArray[x][y], (imgArray[0][0].shape[1], imgArray[0][0].shape[0]), None, scale, scale)\n",
    "                if len(imgArray[x][y].shape) == 2: imgArray[x][y]= cv2.cvtColor( imgArray[x][y], cv2.COLOR_GRAY2BGR)\n",
    "        imageBlank = np.zeros((height, width, 3), np.uint8)\n",
    "        hor = [imageBlank]*rows\n",
    "        hor_con = [imageBlank]*rows\n",
    "        for x in range(0, rows):\n",
    "            hor[x] = np.hstack(imgArray[x])\n",
    "        ver = np.vstack(hor)\n",
    "    else:\n",
    "        for x in range(0, rows):\n",
    "            if imgArray[x].shape[:2] == imgArray[0].shape[:2]:\n",
    "                imgArray[x] = cv2.resize(imgArray[x], (0, 0), None, scale, scale)\n",
    "            else:\n",
    "                imgArray[x] = cv2.resize(imgArray[x], (imgArray[0].shape[1], imgArray[0].shape[0]), None,scale, scale)\n",
    "            if len(imgArray[x].shape) == 2: imgArray[x] = cv2.cvtColor(imgArray[x], cv2.COLOR_GRAY2BGR)\n",
    "        hor= np.hstack(imgArray)\n",
    "        ver = hor\n",
    "    return ver\n"
   ]
  },
  {
   "cell_type": "code",
   "execution_count": 25,
   "id": "24d1e2f9",
   "metadata": {},
   "outputs": [
    {
     "data": {
      "text/plain": [
       "-1"
      ]
     },
     "execution_count": 25,
     "metadata": {},
     "output_type": "execute_result"
    }
   ],
   "source": [
    "imgStack = stackImages(0.5,([img,imgpre,imgcontours,imgbigcontour],[imgWarpCol,imgblank,imgblank,imgblank]))\n",
    "# showing the output \n",
    "cv2.imshow(\"Final Stack\", imgStack)\n",
    "cv2.waitKey(0)"
   ]
  },
  {
   "cell_type": "code",
   "execution_count": 26,
   "id": "8c54770b",
   "metadata": {},
   "outputs": [],
   "source": [
    "# finding contours\n",
    "imgcontours = img.copy()\n",
    "imgbigcontour = img.copy()\n",
    "contours, hierarchy = cv2.findContours(imgpre,cv2.RETR_EXTERNAL,cv2.CHAIN_APPROX_SIMPLE)\n",
    "imgcontours=cv2.drawContours(imgcontours, contours, -1,(0,255,0),3)"
   ]
  },
  {
   "cell_type": "code",
   "execution_count": 27,
   "id": "bce87d82",
   "metadata": {},
   "outputs": [],
   "source": [
    "# getting the biggest area and contour\n",
    "def biggestcontour(contours):\n",
    "    biggest = np.array([])\n",
    "    max_area = 0\n",
    "    for i in contours:\n",
    "        area = cv2.contourArea(i)\n",
    "        if area>50:\n",
    "            peri = cv2.arcLength(i, True)\n",
    "            approx = cv2.approxPolyDP(i, 0.02*peri, True)\n",
    "            if area>max_area and len(approx)==4:\n",
    "                biggest = approx\n",
    "                max_area =  area\n",
    "    return(biggest,max_area)\n",
    "\n",
    "def reorder(lst):\n",
    "    biggest= lst\n",
    "    val = np.array([biggest.reshape((4,2))[np.argmin(biggest.reshape((4,2)).sum(1))],\n",
    "    biggest.reshape((4,2))[np.argmin(np.diff(biggest.reshape((4,2)),1))],\n",
    "    biggest.reshape((4,2))[np.argmax(np.diff(biggest.reshape((4,2)),1))],\n",
    "    biggest.reshape((4,2))[np.argmax(biggest.reshape((4,2)).sum(1))]]).reshape((4,1,2))\n",
    "    return(val)\n",
    "    "
   ]
  },
  {
   "cell_type": "code",
   "execution_count": 28,
   "id": "bb046d58",
   "metadata": {},
   "outputs": [],
   "source": [
    "# finding the biggest contour \n",
    "biggest, maxarea = biggestcontour(contours)\n",
    "if biggest.size!=0:\n",
    "    biggest = reorder(biggest)\n",
    "    cv2.drawContours(imgbigcontour,biggest,-1,(0,255,0),10)\n",
    "    pts1 = np.float32(biggest)\n",
    "    pts2 = np.float32([[0,0],[wdt,0],[0,hgt],[wdt,hgt]])\n",
    "    mat = cv2.getPerspectiveTransform(pts1,pts2)\n",
    "    imgWarpCol = cv2.warpPerspective(img,mat,(wdt,hgt))\n",
    "    imgdigits = imgblank.copy()\n",
    "    imgWarpCol = cv2.cvtColor(imgWarpCol,cv2.COLOR_BGR2GRAY)"
   ]
  },
  {
   "cell_type": "code",
   "execution_count": 29,
   "id": "8990841c",
   "metadata": {},
   "outputs": [],
   "source": [
    "def splitboxes(img,nrows=9,ncols=9):\n",
    "    rows=np.vsplit(img,nrows)\n",
    "    boxes = []\n",
    "    for r in rows:\n",
    "        cols = np.hsplit(r,ncols)\n",
    "        for box in cols:\n",
    "            boxes.append(box)\n",
    "    \n",
    "    return(boxes)"
   ]
  },
  {
   "cell_type": "code",
   "execution_count": 30,
   "id": "24b76815",
   "metadata": {},
   "outputs": [],
   "source": [
    "# finding digits\n",
    "imgSolvedDigits = imgblank.copy()\n",
    "boxes = splitboxes(imgWarpCol)\n"
   ]
  },
  {
   "cell_type": "code",
   "execution_count": 31,
   "id": "85457f21",
   "metadata": {},
   "outputs": [
    {
     "data": {
      "text/plain": [
       "-1"
      ]
     },
     "execution_count": 31,
     "metadata": {},
     "output_type": "execute_result"
    }
   ],
   "source": [
    "cv2.imshow(\"Sample\",boxes[3])\n",
    "cv2.waitKey(0)"
   ]
  },
  {
   "cell_type": "code",
   "execution_count": null,
   "id": "3f7bdb74",
   "metadata": {},
   "outputs": [],
   "source": []
  },
  {
   "cell_type": "code",
   "execution_count": null,
   "id": "aba46c95",
   "metadata": {},
   "outputs": [],
   "source": []
  },
  {
   "cell_type": "code",
   "execution_count": null,
   "id": "3ae9a2d7",
   "metadata": {},
   "outputs": [],
   "source": []
  },
  {
   "cell_type": "code",
   "execution_count": null,
   "id": "844c5a50",
   "metadata": {},
   "outputs": [],
   "source": []
  },
  {
   "cell_type": "code",
   "execution_count": null,
   "id": "aac280bc",
   "metadata": {},
   "outputs": [],
   "source": []
  },
  {
   "cell_type": "code",
   "execution_count": 87,
   "id": "dcb58cfc",
   "metadata": {},
   "outputs": [],
   "source": [
    "pts2 = np.float32([[0,0],[wdt,0],[0,hgt],[wdt,hgt]])"
   ]
  },
  {
   "cell_type": "code",
   "execution_count": 92,
   "id": "56fdfd15",
   "metadata": {},
   "outputs": [
    {
     "data": {
      "text/plain": [
       "array([[ 3.35436067e+00,  1.76774254e-16, -2.95183739e+02],\n",
       "       [ 0.00000000e+00,  1.82737559e+00, -1.29743667e+02],\n",
       "       [-3.79358446e-19, -1.00130169e-04,  1.00000000e+00]])"
      ]
     },
     "execution_count": 92,
     "metadata": {},
     "output_type": "execute_result"
    }
   ],
   "source": [
    "mat"
   ]
  },
  {
   "cell_type": "code",
   "execution_count": 41,
   "id": "9f7b40bb",
   "metadata": {},
   "outputs": [
    {
     "data": {
      "text/plain": [
       "array([ 88, 205], dtype=int32)"
      ]
     },
     "execution_count": 41,
     "metadata": {},
     "output_type": "execute_result"
    }
   ],
   "source": [
    "final_otpt = \n",
    "biggest.reshape((4,2))[1]"
   ]
  },
  {
   "cell_type": "code",
   "execution_count": 78,
   "id": "720ef6e7",
   "metadata": {},
   "outputs": [],
   "source": [
    "val = np.array([biggest.reshape((4,2))[np.argmin(biggest.reshape((4,2)).sum(1))],\n",
    "biggest.reshape((4,2))[np.argmin(np.diff(biggest.reshape((4,2)),1))],\n",
    "biggest.reshape((4,2))[np.argmax(np.diff(biggest.reshape((4,2)),1))],\n",
    "biggest.reshape((4,2))[np.argmax(biggest.reshape((4,2)).sum(1))]]).reshape((4,1,2))"
   ]
  },
  {
   "cell_type": "code",
   "execution_count": 71,
   "id": "1e0d1fe8",
   "metadata": {},
   "outputs": [
    {
     "data": {
      "text/plain": [
       "array([[[ 88,  71]],\n",
       "\n",
       "       [[ 88, 205]],\n",
       "\n",
       "       [[161, 205]],\n",
       "\n",
       "       [[162,  71]]], dtype=int32)"
      ]
     },
     "execution_count": 71,
     "metadata": {},
     "output_type": "execute_result"
    }
   ],
   "source": [
    "biggest"
   ]
  },
  {
   "cell_type": "code",
   "execution_count": 79,
   "id": "c4135c6c",
   "metadata": {},
   "outputs": [
    {
     "data": {
      "text/plain": [
       "array([[[ 88,  71]],\n",
       "\n",
       "       [[162,  71]],\n",
       "\n",
       "       [[ 88, 205]],\n",
       "\n",
       "       [[161, 205]]], dtype=int32)"
      ]
     },
     "execution_count": 79,
     "metadata": {},
     "output_type": "execute_result"
    }
   ],
   "source": [
    "val"
   ]
  },
  {
   "cell_type": "code",
   "execution_count": 58,
   "id": "017eb927",
   "metadata": {},
   "outputs": [
    {
     "data": {
      "text/plain": [
       "array([[-17],\n",
       "       [117],\n",
       "       [ 44],\n",
       "       [-91]], dtype=int32)"
      ]
     },
     "execution_count": 58,
     "metadata": {},
     "output_type": "execute_result"
    }
   ],
   "source": [
    "np.diff(biggest.reshape((4,2)),1)"
   ]
  },
  {
   "cell_type": "code",
   "execution_count": 51,
   "id": "c2e04870",
   "metadata": {},
   "outputs": [
    {
     "data": {
      "text/plain": [
       "array([ 88, 205], dtype=int32)"
      ]
     },
     "execution_count": 51,
     "metadata": {},
     "output_type": "execute_result"
    }
   ],
   "source": [
    "biggest[1,0,:]"
   ]
  },
  {
   "cell_type": "code",
   "execution_count": 53,
   "id": "c411fbc8",
   "metadata": {},
   "outputs": [
    {
     "ename": "TypeError",
     "evalue": "'list' object cannot be interpreted as an integer",
     "output_type": "error",
     "traceback": [
      "\u001b[1;31m---------------------------------------------------------------------------\u001b[0m",
      "\u001b[1;31mTypeError\u001b[0m                                 Traceback (most recent call last)",
      "\u001b[1;32m<ipython-input-53-2f33a2741f23>\u001b[0m in \u001b[0;36m<module>\u001b[1;34m\u001b[0m\n\u001b[1;32m----> 1\u001b[1;33m \u001b[0mbiggest\u001b[0m\u001b[1;33m.\u001b[0m\u001b[0msum\u001b[0m\u001b[1;33m(\u001b[0m\u001b[1;33m[\u001b[0m\u001b[1;36m1\u001b[0m\u001b[1;33m,\u001b[0m\u001b[1;36m1\u001b[0m\u001b[1;33m]\u001b[0m\u001b[1;33m)\u001b[0m\u001b[1;33m\u001b[0m\u001b[1;33m\u001b[0m\u001b[0m\n\u001b[0m",
      "\u001b[1;32m~\\anaconda3\\envs\\pyocv\\lib\\site-packages\\numpy\\core\\_methods.py\u001b[0m in \u001b[0;36m_sum\u001b[1;34m(a, axis, dtype, out, keepdims, initial, where)\u001b[0m\n\u001b[0;32m     45\u001b[0m def _sum(a, axis=None, dtype=None, out=None, keepdims=False,\n\u001b[0;32m     46\u001b[0m          initial=_NoValue, where=True):\n\u001b[1;32m---> 47\u001b[1;33m     \u001b[1;32mreturn\u001b[0m \u001b[0mumr_sum\u001b[0m\u001b[1;33m(\u001b[0m\u001b[0ma\u001b[0m\u001b[1;33m,\u001b[0m \u001b[0maxis\u001b[0m\u001b[1;33m,\u001b[0m \u001b[0mdtype\u001b[0m\u001b[1;33m,\u001b[0m \u001b[0mout\u001b[0m\u001b[1;33m,\u001b[0m \u001b[0mkeepdims\u001b[0m\u001b[1;33m,\u001b[0m \u001b[0minitial\u001b[0m\u001b[1;33m,\u001b[0m \u001b[0mwhere\u001b[0m\u001b[1;33m)\u001b[0m\u001b[1;33m\u001b[0m\u001b[1;33m\u001b[0m\u001b[0m\n\u001b[0m\u001b[0;32m     48\u001b[0m \u001b[1;33m\u001b[0m\u001b[0m\n\u001b[0;32m     49\u001b[0m def _prod(a, axis=None, dtype=None, out=None, keepdims=False,\n",
      "\u001b[1;31mTypeError\u001b[0m: 'list' object cannot be interpreted as an integer"
     ]
    }
   ],
   "source": [
    "biggest"
   ]
  },
  {
   "cell_type": "code",
   "execution_count": null,
   "id": "7321c94b",
   "metadata": {},
   "outputs": [],
   "source": []
  }
 ],
 "metadata": {
  "kernelspec": {
   "display_name": "Python 3",
   "language": "python",
   "name": "python3"
  },
  "language_info": {
   "codemirror_mode": {
    "name": "ipython",
    "version": 3
   },
   "file_extension": ".py",
   "mimetype": "text/x-python",
   "name": "python",
   "nbconvert_exporter": "python",
   "pygments_lexer": "ipython3",
   "version": "3.8.8"
  }
 },
 "nbformat": 4,
 "nbformat_minor": 5
}
