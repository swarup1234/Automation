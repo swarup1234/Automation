{
 "cells": [
  {
   "cell_type": "code",
   "execution_count": 15,
   "id": "08c7836a",
   "metadata": {},
   "outputs": [],
   "source": [
    "# sudoku solve opencv\n",
    "import cv2\n",
    "import numpy as np\n",
    "import tensorflow as tf"
   ]
  },
  {
   "cell_type": "code",
   "execution_count": 2,
   "id": "fe924b89",
   "metadata": {},
   "outputs": [],
   "source": [
    "# path of the image \n",
    "pathimage = \"./sudoku2.jpg\"\n",
    "hgt = 450\n",
    "wdt = 450"
   ]
  },
  {
   "cell_type": "code",
   "execution_count": 3,
   "id": "426100df",
   "metadata": {},
   "outputs": [],
   "source": [
    "# preparing the image \n",
    "img = cv2.imread(pathimage)\n",
    "img = cv2.resize(img,(hgt,wdt))\n",
    "imgblank = np.zeros((hgt,wdt,3),np.uint8)"
   ]
  },
  {
   "cell_type": "code",
   "execution_count": 4,
   "id": "411ffb6e",
   "metadata": {},
   "outputs": [],
   "source": [
    "# pre processing the image\n",
    "def preprocess(img):\n",
    "    imgGray = cv2.cvtColor(img,cv2.COLOR_BGR2GRAY)\n",
    "    imgBlur = cv2.GaussianBlur(imgGray,(5,5),1)\n",
    "    imgThreshold = cv2.adaptiveThreshold(imgBlur,255,1,1,11,2)\n",
    "    return(imgThreshold)\n"
   ]
  },
  {
   "cell_type": "code",
   "execution_count": 5,
   "id": "7ea89740",
   "metadata": {},
   "outputs": [],
   "source": [
    "# pre processing \n",
    "imgpre = preprocess(img)"
   ]
  },
  {
   "cell_type": "code",
   "execution_count": 6,
   "id": "4bbe058e",
   "metadata": {},
   "outputs": [],
   "source": [
    "# stack images example function \n",
    "def stackImages(scale,imgArray):\n",
    "    rows = len(imgArray)\n",
    "    cols = len(imgArray[0])\n",
    "    rowsAvailable = isinstance(imgArray[0], list)\n",
    "    width = imgArray[0][0].shape[1]\n",
    "    height = imgArray[0][0].shape[0]\n",
    "    if rowsAvailable:\n",
    "        for x in range ( 0, rows):\n",
    "            for y in range(0, cols):\n",
    "                if imgArray[x][y].shape[:2] == imgArray[0][0].shape [:2]:\n",
    "                    imgArray[x][y] = cv2.resize(imgArray[x][y], (0, 0), None, scale, scale)\n",
    "                else:\n",
    "                    imgArray[x][y] = cv2.resize(imgArray[x][y], (imgArray[0][0].shape[1], imgArray[0][0].shape[0]), None, scale, scale)\n",
    "                if len(imgArray[x][y].shape) == 2: imgArray[x][y]= cv2.cvtColor( imgArray[x][y], cv2.COLOR_GRAY2BGR)\n",
    "        imageBlank = np.zeros((height, width, 3), np.uint8)\n",
    "        hor = [imageBlank]*rows\n",
    "        hor_con = [imageBlank]*rows\n",
    "        for x in range(0, rows):\n",
    "            hor[x] = np.hstack(imgArray[x])\n",
    "        ver = np.vstack(hor)\n",
    "    else:\n",
    "        for x in range(0, rows):\n",
    "            if imgArray[x].shape[:2] == imgArray[0].shape[:2]:\n",
    "                imgArray[x] = cv2.resize(imgArray[x], (0, 0), None, scale, scale)\n",
    "            else:\n",
    "                imgArray[x] = cv2.resize(imgArray[x], (imgArray[0].shape[1], imgArray[0].shape[0]), None,scale, scale)\n",
    "            if len(imgArray[x].shape) == 2: imgArray[x] = cv2.cvtColor(imgArray[x], cv2.COLOR_GRAY2BGR)\n",
    "        hor= np.hstack(imgArray)\n",
    "        ver = hor\n",
    "    return ver\n"
   ]
  },
  {
   "cell_type": "code",
   "execution_count": 27,
   "id": "24d1e2f9",
   "metadata": {},
   "outputs": [
    {
     "data": {
      "text/plain": [
       "-1"
      ]
     },
     "execution_count": 27,
     "metadata": {},
     "output_type": "execute_result"
    }
   ],
   "source": [
    "imgStack = stackImages(0.5,([img,imgpre,imgcontours,imgbigcontour],[imgWarpCol,imgblank,imgblank,imgblank]))\n",
    "# showing the output \n",
    "cv2.imshow(\"Final Stack\", imgStack)\n",
    "cv2.waitKey(0)"
   ]
  },
  {
   "cell_type": "code",
   "execution_count": 7,
   "id": "8c54770b",
   "metadata": {},
   "outputs": [],
   "source": [
    "# finding contours\n",
    "imgcontours = img.copy()\n",
    "imgbigcontour = img.copy()\n",
    "contours, hierarchy = cv2.findContours(imgpre,cv2.RETR_EXTERNAL,cv2.CHAIN_APPROX_SIMPLE)\n",
    "imgcontours=cv2.drawContours(imgcontours, contours, -1,(0,255,0),3)"
   ]
  },
  {
   "cell_type": "code",
   "execution_count": 8,
   "id": "bce87d82",
   "metadata": {},
   "outputs": [],
   "source": [
    "# getting the biggest area and contour\n",
    "def biggestcontour(contours):\n",
    "    biggest = np.array([])\n",
    "    max_area = 0\n",
    "    for i in contours:\n",
    "        area = cv2.contourArea(i)\n",
    "        if area>50:\n",
    "            peri = cv2.arcLength(i, True)\n",
    "            approx = cv2.approxPolyDP(i, 0.02*peri, True)\n",
    "            if area>max_area and len(approx)==4:\n",
    "                biggest = approx\n",
    "                max_area =  area\n",
    "    return(biggest,max_area)\n",
    "\n",
    "def reorder(lst):\n",
    "    biggest= lst\n",
    "    val = np.array([biggest.reshape((4,2))[np.argmin(biggest.reshape((4,2)).sum(1))],\n",
    "    biggest.reshape((4,2))[np.argmin(np.diff(biggest.reshape((4,2)),1))],\n",
    "    biggest.reshape((4,2))[np.argmax(np.diff(biggest.reshape((4,2)),1))],\n",
    "    biggest.reshape((4,2))[np.argmax(biggest.reshape((4,2)).sum(1))]]).reshape((4,1,2))\n",
    "    return(val)\n",
    "    "
   ]
  },
  {
   "cell_type": "code",
   "execution_count": 9,
   "id": "bb046d58",
   "metadata": {},
   "outputs": [],
   "source": [
    "# finding the biggest contour \n",
    "biggest, maxarea = biggestcontour(contours)\n",
    "if biggest.size!=0:\n",
    "    biggest = reorder(biggest)\n",
    "    cv2.drawContours(imgbigcontour,biggest,-1,(0,255,0),10)\n",
    "    pts1 = np.float32(biggest)\n",
    "    pts2 = np.float32([[0,0],[wdt,0],[0,hgt],[wdt,hgt]])\n",
    "    mat = cv2.getPerspectiveTransform(pts1,pts2)\n",
    "    imgWarpCol = cv2.warpPerspective(img,mat,(wdt,hgt))\n",
    "    imgdigits = imgblank.copy()\n",
    "    imgWarpCol = cv2.cvtColor(imgWarpCol,cv2.COLOR_BGR2GRAY)"
   ]
  },
  {
   "cell_type": "code",
   "execution_count": 10,
   "id": "8990841c",
   "metadata": {},
   "outputs": [],
   "source": [
    "def splitboxes(img,nrows=9,ncols=9):\n",
    "    rows=np.vsplit(img,nrows)\n",
    "    boxes = []\n",
    "    for r in rows:\n",
    "        cols = np.hsplit(r,ncols)\n",
    "        for box in cols:\n",
    "            boxes.append(box)\n",
    "    \n",
    "    return(boxes)"
   ]
  },
  {
   "cell_type": "code",
   "execution_count": 49,
   "id": "c5cea28b",
   "metadata": {},
   "outputs": [],
   "source": [
    "# make a prediction for a new image.\n",
    "from keras.preprocessing.image import load_img\n",
    "from keras.preprocessing.image import img_to_array\n",
    "from keras.models import load_model\n",
    " \n",
    "# load and prepare the image\n",
    "def load_image(bx):\n",
    "    # load the image\n",
    "    #img = load_img(filename, grayscale=True, target_size=(28, 28))\n",
    "    bx = cv2.resize(bx,(28,28))\n",
    "    \n",
    "    # convert to array\n",
    "    img = img_to_array(bx)\n",
    "    # reshape into a single sample with 1 channel\n",
    "    img = img.reshape(1, 28, 28, 1)\n",
    "    # prepare pixel data\n",
    "    img = img.astype('float32')\n",
    "    img = img / 255.0\n",
    "    return img\n",
    " \n",
    "# load an image and predict the class\n",
    "def getprediction(bx,new_model):\n",
    "    # load the image\n",
    "    img = load_image(bx)\n",
    "    # load model\n",
    "    #model = load_model('final_mode_old.h5')\n",
    "    # predict the class\n",
    "    digit = new_model.predict_classes(img)\n",
    "    # print(digit)\n",
    "    # print(\"The prediction value is : %s\"%(digit[0]))\n",
    "    return(digit[0])"
   ]
  },
  {
   "cell_type": "code",
   "execution_count": 50,
   "id": "6fae1842",
   "metadata": {},
   "outputs": [],
   "source": [
    "%matplotlib inline\n",
    "import matplotlib.pyplot as plt"
   ]
  },
  {
   "cell_type": "code",
   "execution_count": 68,
   "id": "756ead8d",
   "metadata": {},
   "outputs": [],
   "source": [
    "v=boxes[0]\n",
    "for i in boxes[1:9]:\n",
    "    v= np.hstack((v, i))"
   ]
  },
  {
   "cell_type": "code",
   "execution_count": 89,
   "id": "58f588e7",
   "metadata": {},
   "outputs": [
    {
     "name": "stdout",
     "output_type": "stream",
     "text": [
      "1\n",
      "(50, 450) (50, 450)\n",
      "2\n",
      "(50, 450) (100, 450)\n",
      "3\n",
      "(50, 450) (150, 450)\n",
      "4\n",
      "(50, 450) (200, 450)\n",
      "5\n",
      "(50, 450) (250, 450)\n",
      "6\n",
      "(50, 450) (300, 450)\n",
      "7\n",
      "(50, 450) (350, 450)\n",
      "8\n",
      "(50, 450) (400, 450)\n"
     ]
    }
   ],
   "source": [
    "for j in range(1,9):\n",
    "    c=boxes[j*9]\n",
    "    print(j)\n",
    "    for i in boxes[j*9+1:j*9+9]:\n",
    "        c = np.hstack((c, i))\n",
    "    print(c.shape, v.shape)    \n",
    "    v = np.vstack((v,c))\n",
    "    c = None\n",
    "    \n",
    "    "
   ]
  },
  {
   "cell_type": "code",
   "execution_count": 90,
   "id": "4bebde9d",
   "metadata": {},
   "outputs": [
    {
     "data": {
      "text/plain": [
       "<matplotlib.image.AxesImage at 0x1d2d7b2b1f0>"
      ]
     },
     "execution_count": 90,
     "metadata": {},
     "output_type": "execute_result"
    },
    {
     "data": {
      "image/png": "[encoded data removed]",
      "text/plain": [
       "<Figure size 432x288 with 1 Axes>"
      ]
     },
     "metadata": {
      "needs_background": "light"
     },
     "output_type": "display_data"
    }
   ],
   "source": [
    "plt.imshow(v)"
   ]
  },
  {
   "cell_type": "code",
   "execution_count": 92,
   "id": "639445e8",
   "metadata": {},
   "outputs": [],
   "source": [
    "z = np.zeros((81,))"
   ]
  },
  {
   "cell_type": "code",
   "execution_count": 98,
   "id": "f0ebf0ec",
   "metadata": {},
   "outputs": [
    {
     "data": {
      "text/plain": [
       "array([[1., 1., 1., 1., 1., 0., 1., 1., 1.],\n",
       "       [0., 1., 1., 8., 1., 9., 0., 1., 1.],\n",
       "       [1., 4., 1., 0., 1., 1., 1., 5., 1.],\n",
       "       [1., 0., 1., 1., 1., 5., 1., 4., 0.],\n",
       "       [1., 0., 1., 6., 1., 1., 1., 1., 1.],\n",
       "       [6., 1., 1., 1., 9., 1., 5., 0., 1.],\n",
       "       [0., 1., 1., 1., 1., 1., 1., 1., 1.],\n",
       "       [1., 8., 1., 1., 0., 0., 4., 1., 1.],\n",
       "       [1., 1., 4., 0., 1., 1., 1., 0., 1.]])"
      ]
     },
     "execution_count": 98,
     "metadata": {},
     "output_type": "execute_result"
    }
   ],
   "source": [
    "z.reshape((9,9))"
   ]
  },
  {
   "cell_type": "code",
   "execution_count": 96,
   "id": "3cb85b53",
   "metadata": {},
   "outputs": [],
   "source": [
    "z = np.zeros((81,))\n",
    "for i in range(len(boxes)):\n",
    "    z[i]=int(getprediction(boxes[i],new_model))"
   ]
  },
  {
   "cell_type": "code",
   "execution_count": null,
   "id": "78cacb62",
   "metadata": {},
   "outputs": [],
   "source": [
    "import matplotlib.pyplot as plt\n",
    "\n",
    "fig, ax =plt.subplots(1,1)\n",
    "data=[[1,2,3],\n",
    "      [5,6,7],\n",
    "      [8,9,10]]\n",
    "column_labels=[\"Column 1\", \"Column 2\", \"Column 3\"]\n",
    "ax.axis('tight')\n",
    "ax.axis('off')\n",
    "ax.table(cellText=data,colLabels=column_labels,loc=\"center\")\n",
    "\n",
    "plt.show()"
   ]
  },
  {
   "cell_type": "code",
   "execution_count": 102,
   "id": "70158cc0",
   "metadata": {},
   "outputs": [
    {
     "ename": "TypeError",
     "evalue": "object of type 'numpy.float64' has no len()",
     "output_type": "error",
     "traceback": [
      "\u001b[1;31m---------------------------------------------------------------------------\u001b[0m",
      "\u001b[1;31mTypeError\u001b[0m                                 Traceback (most recent call last)",
      "\u001b[1;32m<ipython-input-102-642f0a4e365e>\u001b[0m in \u001b[0;36m<module>\u001b[1;34m\u001b[0m\n\u001b[0;32m      4\u001b[0m \u001b[0max\u001b[0m\u001b[1;33m.\u001b[0m\u001b[0maxis\u001b[0m\u001b[1;33m(\u001b[0m\u001b[1;34m'tight'\u001b[0m\u001b[1;33m)\u001b[0m\u001b[1;33m\u001b[0m\u001b[1;33m\u001b[0m\u001b[0m\n\u001b[0;32m      5\u001b[0m \u001b[0max\u001b[0m\u001b[1;33m.\u001b[0m\u001b[0maxis\u001b[0m\u001b[1;33m(\u001b[0m\u001b[1;34m'off'\u001b[0m\u001b[1;33m)\u001b[0m\u001b[1;33m\u001b[0m\u001b[1;33m\u001b[0m\u001b[0m\n\u001b[1;32m----> 6\u001b[1;33m \u001b[0max\u001b[0m\u001b[1;33m.\u001b[0m\u001b[0mtable\u001b[0m\u001b[1;33m(\u001b[0m\u001b[0mcellText\u001b[0m\u001b[1;33m=\u001b[0m\u001b[0mz\u001b[0m\u001b[1;33m,\u001b[0m\u001b[0mloc\u001b[0m\u001b[1;33m=\u001b[0m\u001b[1;34m\"center\"\u001b[0m\u001b[1;33m)\u001b[0m\u001b[1;33m\u001b[0m\u001b[1;33m\u001b[0m\u001b[0m\n\u001b[0m\u001b[0;32m      7\u001b[0m \u001b[1;33m\u001b[0m\u001b[0m\n\u001b[0;32m      8\u001b[0m \u001b[0mplt\u001b[0m\u001b[1;33m.\u001b[0m\u001b[0mshow\u001b[0m\u001b[1;33m(\u001b[0m\u001b[1;33m)\u001b[0m\u001b[1;33m\u001b[0m\u001b[1;33m\u001b[0m\u001b[0m\n",
      "\u001b[1;32m~\\anaconda3\\envs\\pyocv\\lib\\site-packages\\matplotlib\\table.py\u001b[0m in \u001b[0;36mtable\u001b[1;34m(ax, cellText, cellColours, cellLoc, colWidths, rowLabels, rowColours, rowLoc, colLabels, colColours, colLoc, loc, bbox, edges, **kwargs)\u001b[0m\n\u001b[0;32m    739\u001b[0m \u001b[1;33m\u001b[0m\u001b[0m\n\u001b[0;32m    740\u001b[0m     \u001b[0mrows\u001b[0m \u001b[1;33m=\u001b[0m \u001b[0mlen\u001b[0m\u001b[1;33m(\u001b[0m\u001b[0mcellText\u001b[0m\u001b[1;33m)\u001b[0m\u001b[1;33m\u001b[0m\u001b[1;33m\u001b[0m\u001b[0m\n\u001b[1;32m--> 741\u001b[1;33m     \u001b[0mcols\u001b[0m \u001b[1;33m=\u001b[0m \u001b[0mlen\u001b[0m\u001b[1;33m(\u001b[0m\u001b[0mcellText\u001b[0m\u001b[1;33m[\u001b[0m\u001b[1;36m0\u001b[0m\u001b[1;33m]\u001b[0m\u001b[1;33m)\u001b[0m\u001b[1;33m\u001b[0m\u001b[1;33m\u001b[0m\u001b[0m\n\u001b[0m\u001b[0;32m    742\u001b[0m     \u001b[1;32mfor\u001b[0m \u001b[0mrow\u001b[0m \u001b[1;32min\u001b[0m \u001b[0mcellText\u001b[0m\u001b[1;33m:\u001b[0m\u001b[1;33m\u001b[0m\u001b[1;33m\u001b[0m\u001b[0m\n\u001b[0;32m    743\u001b[0m         \u001b[1;32mif\u001b[0m \u001b[0mlen\u001b[0m\u001b[1;33m(\u001b[0m\u001b[0mrow\u001b[0m\u001b[1;33m)\u001b[0m \u001b[1;33m!=\u001b[0m \u001b[0mcols\u001b[0m\u001b[1;33m:\u001b[0m\u001b[1;33m\u001b[0m\u001b[1;33m\u001b[0m\u001b[0m\n",
      "\u001b[1;31mTypeError\u001b[0m: object of type 'numpy.float64' has no len()"
     ]
    },
    {
     "data": {
      "image/png": "[encoded data removed]",
      "text/plain": [
       "<Figure size 432x288 with 1 Axes>"
      ]
     },
     "metadata": {
      "needs_background": "light"
     },
     "output_type": "display_data"
    }
   ],
   "source": [
    "import matplotlib.pyplot as plt\n",
    "fig, ax =plt.subplots(1,1)\n",
    "column_labels=[]\n",
    "ax.axis('tight')\n",
    "ax.axis('off')\n",
    "ax.table(cellText=z,loc=\"center\")\n",
    "\n",
    "plt.show()"
   ]
  },
  {
   "cell_type": "code",
   "execution_count": 33,
   "id": "3fac8fa1",
   "metadata": {},
   "outputs": [],
   "source": [
    "# load and prepare the image\n",
    "def load_image(bx):\n",
    "    # load the image\n",
    "    #img = load_img(filename, grayscale=True, target_size=(28, 28))\n",
    "    # convert to array\n",
    "    img = img_to_array(bx)\n",
    "    # reshape into a single sample with 1 channel\n",
    "    img = img.reshape(1, 28, 28, 1)\n",
    "    # prepare pixel data\n",
    "    img = img.astype('float32')\n",
    "    img = img / 255.0\n",
    "    return img"
   ]
  },
  {
   "cell_type": "code",
   "execution_count": 30,
   "id": "619a6ed9",
   "metadata": {},
   "outputs": [
    {
     "ename": "SyntaxError",
     "evalue": "unexpected EOF while parsing (<ipython-input-30-207914f838d9>, line 3)",
     "output_type": "error",
     "traceback": [
      "\u001b[1;36m  File \u001b[1;32m\"<ipython-input-30-207914f838d9>\"\u001b[1;36m, line \u001b[1;32m3\u001b[0m\n\u001b[1;33m    \u001b[0m\n\u001b[1;37m    ^\u001b[0m\n\u001b[1;31mSyntaxError\u001b[0m\u001b[1;31m:\u001b[0m unexpected EOF while parsing\n"
     ]
    }
   ],
   "source": [
    "# getting the model \n",
    "def getprediction(boxes,new_model):\n",
    "    \n"
   ]
  },
  {
   "cell_type": "code",
   "execution_count": 54,
   "id": "24b76815",
   "metadata": {},
   "outputs": [
    {
     "ename": "error",
     "evalue": "OpenCV(4.5.2) :-1: error: (-5:Bad argument) in function 'resize'\n> Overload resolution failed:\n>  - src is not a numpy array, neither a scalar\n>  - Expected Ptr<cv::UMat> for argument 'src'\n",
     "output_type": "error",
     "traceback": [
      "\u001b[1;31m---------------------------------------------------------------------------\u001b[0m",
      "\u001b[1;31merror\u001b[0m                                     Traceback (most recent call last)",
      "\u001b[1;32m<ipython-input-54-fdbce40bef53>\u001b[0m in \u001b[0;36m<module>\u001b[1;34m\u001b[0m\n\u001b[0;32m      3\u001b[0m \u001b[0mboxes\u001b[0m \u001b[1;33m=\u001b[0m \u001b[0msplitboxes\u001b[0m\u001b[1;33m(\u001b[0m\u001b[0mimgWarpCol\u001b[0m\u001b[1;33m)\u001b[0m\u001b[1;33m\u001b[0m\u001b[1;33m\u001b[0m\u001b[0m\n\u001b[0;32m      4\u001b[0m \u001b[0mnew_model\u001b[0m \u001b[1;33m=\u001b[0m \u001b[0mtf\u001b[0m\u001b[1;33m.\u001b[0m\u001b[0mkeras\u001b[0m\u001b[1;33m.\u001b[0m\u001b[0mmodels\u001b[0m\u001b[1;33m.\u001b[0m\u001b[0mload_model\u001b[0m\u001b[1;33m(\u001b[0m\u001b[1;34m'final_model.h5'\u001b[0m\u001b[1;33m)\u001b[0m\u001b[1;33m\u001b[0m\u001b[1;33m\u001b[0m\u001b[0m\n\u001b[1;32m----> 5\u001b[1;33m \u001b[0mnumbers\u001b[0m \u001b[1;33m=\u001b[0m \u001b[0mgetprediction\u001b[0m\u001b[1;33m(\u001b[0m\u001b[0mboxes\u001b[0m\u001b[1;33m,\u001b[0m \u001b[0mnew_model\u001b[0m\u001b[1;33m)\u001b[0m\u001b[1;33m\u001b[0m\u001b[1;33m\u001b[0m\u001b[0m\n\u001b[0m",
      "\u001b[1;32m<ipython-input-49-b8e9c8f211b4>\u001b[0m in \u001b[0;36mgetprediction\u001b[1;34m(bx, new_model)\u001b[0m\n\u001b[0;32m     22\u001b[0m \u001b[1;32mdef\u001b[0m \u001b[0mgetprediction\u001b[0m\u001b[1;33m(\u001b[0m\u001b[0mbx\u001b[0m\u001b[1;33m,\u001b[0m\u001b[0mnew_model\u001b[0m\u001b[1;33m)\u001b[0m\u001b[1;33m:\u001b[0m\u001b[1;33m\u001b[0m\u001b[1;33m\u001b[0m\u001b[0m\n\u001b[0;32m     23\u001b[0m     \u001b[1;31m# load the image\u001b[0m\u001b[1;33m\u001b[0m\u001b[1;33m\u001b[0m\u001b[1;33m\u001b[0m\u001b[0m\n\u001b[1;32m---> 24\u001b[1;33m     \u001b[0mimg\u001b[0m \u001b[1;33m=\u001b[0m \u001b[0mload_image\u001b[0m\u001b[1;33m(\u001b[0m\u001b[0mbx\u001b[0m\u001b[1;33m)\u001b[0m\u001b[1;33m\u001b[0m\u001b[1;33m\u001b[0m\u001b[0m\n\u001b[0m\u001b[0;32m     25\u001b[0m     \u001b[1;31m# load model\u001b[0m\u001b[1;33m\u001b[0m\u001b[1;33m\u001b[0m\u001b[1;33m\u001b[0m\u001b[0m\n\u001b[0;32m     26\u001b[0m     \u001b[1;31m#model = load_model('final_mode_old.h5')\u001b[0m\u001b[1;33m\u001b[0m\u001b[1;33m\u001b[0m\u001b[1;33m\u001b[0m\u001b[0m\n",
      "\u001b[1;32m<ipython-input-49-b8e9c8f211b4>\u001b[0m in \u001b[0;36mload_image\u001b[1;34m(bx)\u001b[0m\n\u001b[0;32m      8\u001b[0m     \u001b[1;31m# load the image\u001b[0m\u001b[1;33m\u001b[0m\u001b[1;33m\u001b[0m\u001b[1;33m\u001b[0m\u001b[0m\n\u001b[0;32m      9\u001b[0m     \u001b[1;31m#img = load_img(filename, grayscale=True, target_size=(28, 28))\u001b[0m\u001b[1;33m\u001b[0m\u001b[1;33m\u001b[0m\u001b[1;33m\u001b[0m\u001b[0m\n\u001b[1;32m---> 10\u001b[1;33m     \u001b[0mbx\u001b[0m \u001b[1;33m=\u001b[0m \u001b[0mcv2\u001b[0m\u001b[1;33m.\u001b[0m\u001b[0mresize\u001b[0m\u001b[1;33m(\u001b[0m\u001b[0mbx\u001b[0m\u001b[1;33m,\u001b[0m\u001b[1;33m(\u001b[0m\u001b[1;36m28\u001b[0m\u001b[1;33m,\u001b[0m\u001b[1;36m28\u001b[0m\u001b[1;33m)\u001b[0m\u001b[1;33m)\u001b[0m\u001b[1;33m\u001b[0m\u001b[1;33m\u001b[0m\u001b[0m\n\u001b[0m\u001b[0;32m     11\u001b[0m \u001b[1;33m\u001b[0m\u001b[0m\n\u001b[0;32m     12\u001b[0m     \u001b[1;31m# convert to array\u001b[0m\u001b[1;33m\u001b[0m\u001b[1;33m\u001b[0m\u001b[1;33m\u001b[0m\u001b[0m\n",
      "\u001b[1;31merror\u001b[0m: OpenCV(4.5.2) :-1: error: (-5:Bad argument) in function 'resize'\n> Overload resolution failed:\n>  - src is not a numpy array, neither a scalar\n>  - Expected Ptr<cv::UMat> for argument 'src'\n"
     ]
    }
   ],
   "source": [
    "# finding digits\n",
    "imgSolvedDigits = imgblank.copy()\n",
    "boxes = splitboxes(imgWarpCol)\n",
    "new_model = tf.keras.models.load_model('final_model.h5')\n",
    "numbers = getprediction(boxes, new_model)\n"
   ]
  },
  {
   "cell_type": "code",
   "execution_count": 34,
   "id": "d3462219",
   "metadata": {},
   "outputs": [],
   "source": [
    "bx = cv2.resize(boxes[5],(28,28))\n",
    "bx1 = load_image(bx)\n"
   ]
  },
  {
   "cell_type": "code",
   "execution_count": 22,
   "id": "786e0528",
   "metadata": {},
   "outputs": [
    {
     "data": {
      "text/plain": [
       "-1"
      ]
     },
     "execution_count": 22,
     "metadata": {},
     "output_type": "execute_result"
    }
   ],
   "source": [
    "cv2.imshow(\"Sample\",bx)\n",
    "cv2.waitKey(0)"
   ]
  },
  {
   "cell_type": "code",
   "execution_count": 20,
   "id": "85457f21",
   "metadata": {},
   "outputs": [
    {
     "data": {
      "text/plain": [
       "-1"
      ]
     },
     "execution_count": 20,
     "metadata": {},
     "output_type": "execute_result"
    }
   ],
   "source": [
    "cv2.imshow(\"Sample\",boxes[5])\n",
    "cv2.waitKey(0)"
   ]
  },
  {
   "cell_type": "code",
   "execution_count": 17,
   "id": "3f7bdb74",
   "metadata": {},
   "outputs": [
    {
     "data": {
      "text/plain": [
       "-1"
      ]
     },
     "execution_count": 17,
     "metadata": {},
     "output_type": "execute_result"
    }
   ],
   "source": [
    "imgStack = stackImages(0.5,([boxes[i],boxes[i+1],boxes[i+2],boxes[i+3]],[boxes[i+4],boxes[i+5],boxes[i+6],boxes[i+7]]))\n",
    "# showing the output \n",
    "cv2.imshow(\"Final Stack\", imgStack)\n",
    "cv2.waitKey(0)"
   ]
  },
  {
   "cell_type": "code",
   "execution_count": 16,
   "id": "aba46c95",
   "metadata": {},
   "outputs": [],
   "source": [
    "new_model = tf.keras.models.load_model('final_model.h5')\n"
   ]
  },
  {
   "cell_type": "code",
   "execution_count": null,
   "id": "3ae9a2d7",
   "metadata": {},
   "outputs": [],
   "source": []
  },
  {
   "cell_type": "code",
   "execution_count": null,
   "id": "844c5a50",
   "metadata": {},
   "outputs": [],
   "source": []
  },
  {
   "cell_type": "code",
   "execution_count": null,
   "id": "aac280bc",
   "metadata": {},
   "outputs": [],
   "source": []
  },
  {
   "cell_type": "code",
   "execution_count": 87,
   "id": "dcb58cfc",
   "metadata": {},
   "outputs": [],
   "source": [
    "pts2 = np.float32([[0,0],[wdt,0],[0,hgt],[wdt,hgt]])"
   ]
  },
  {
   "cell_type": "code",
   "execution_count": 92,
   "id": "56fdfd15",
   "metadata": {},
   "outputs": [
    {
     "data": {
      "text/plain": [
       "array([[ 3.35436067e+00,  1.76774254e-16, -2.95183739e+02],\n",
       "       [ 0.00000000e+00,  1.82737559e+00, -1.29743667e+02],\n",
       "       [-3.79358446e-19, -1.00130169e-04,  1.00000000e+00]])"
      ]
     },
     "execution_count": 92,
     "metadata": {},
     "output_type": "execute_result"
    }
   ],
   "source": [
    "mat"
   ]
  },
  {
   "cell_type": "code",
   "execution_count": 41,
   "id": "9f7b40bb",
   "metadata": {},
   "outputs": [
    {
     "data": {
      "text/plain": [
       "array([ 88, 205], dtype=int32)"
      ]
     },
     "execution_count": 41,
     "metadata": {},
     "output_type": "execute_result"
    }
   ],
   "source": [
    "final_otpt = \n",
    "biggest.reshape((4,2))[1]"
   ]
  },
  {
   "cell_type": "code",
   "execution_count": 78,
   "id": "720ef6e7",
   "metadata": {},
   "outputs": [],
   "source": [
    "val = np.array([biggest.reshape((4,2))[np.argmin(biggest.reshape((4,2)).sum(1))],\n",
    "biggest.reshape((4,2))[np.argmin(np.diff(biggest.reshape((4,2)),1))],\n",
    "biggest.reshape((4,2))[np.argmax(np.diff(biggest.reshape((4,2)),1))],\n",
    "biggest.reshape((4,2))[np.argmax(biggest.reshape((4,2)).sum(1))]]).reshape((4,1,2))"
   ]
  },
  {
   "cell_type": "code",
   "execution_count": 71,
   "id": "1e0d1fe8",
   "metadata": {},
   "outputs": [
    {
     "data": {
      "text/plain": [
       "array([[[ 88,  71]],\n",
       "\n",
       "       [[ 88, 205]],\n",
       "\n",
       "       [[161, 205]],\n",
       "\n",
       "       [[162,  71]]], dtype=int32)"
      ]
     },
     "execution_count": 71,
     "metadata": {},
     "output_type": "execute_result"
    }
   ],
   "source": [
    "biggest"
   ]
  },
  {
   "cell_type": "code",
   "execution_count": 79,
   "id": "c4135c6c",
   "metadata": {},
   "outputs": [
    {
     "data": {
      "text/plain": [
       "array([[[ 88,  71]],\n",
       "\n",
       "       [[162,  71]],\n",
       "\n",
       "       [[ 88, 205]],\n",
       "\n",
       "       [[161, 205]]], dtype=int32)"
      ]
     },
     "execution_count": 79,
     "metadata": {},
     "output_type": "execute_result"
    }
   ],
   "source": [
    "val"
   ]
  },
  {
   "cell_type": "code",
   "execution_count": 58,
   "id": "017eb927",
   "metadata": {},
   "outputs": [
    {
     "data": {
      "text/plain": [
       "array([[-17],\n",
       "       [117],\n",
       "       [ 44],\n",
       "       [-91]], dtype=int32)"
      ]
     },
     "execution_count": 58,
     "metadata": {},
     "output_type": "execute_result"
    }
   ],
   "source": [
    "np.diff(biggest.reshape((4,2)),1)"
   ]
  },
  {
   "cell_type": "code",
   "execution_count": 51,
   "id": "c2e04870",
   "metadata": {},
   "outputs": [
    {
     "data": {
      "text/plain": [
       "array([ 88, 205], dtype=int32)"
      ]
     },
     "execution_count": 51,
     "metadata": {},
     "output_type": "execute_result"
    }
   ],
   "source": [
    "biggest[1,0,:]"
   ]
  },
  {
   "cell_type": "code",
   "execution_count": 53,
   "id": "c411fbc8",
   "metadata": {},
   "outputs": [
    {
     "ename": "TypeError",
     "evalue": "'list' object cannot be interpreted as an integer",
     "output_type": "error",
     "traceback": [
      "\u001b[1;31m---------------------------------------------------------------------------\u001b[0m",
      "\u001b[1;31mTypeError\u001b[0m                                 Traceback (most recent call last)",
      "\u001b[1;32m<ipython-input-53-2f33a2741f23>\u001b[0m in \u001b[0;36m<module>\u001b[1;34m\u001b[0m\n\u001b[1;32m----> 1\u001b[1;33m \u001b[0mbiggest\u001b[0m\u001b[1;33m.\u001b[0m\u001b[0msum\u001b[0m\u001b[1;33m(\u001b[0m\u001b[1;33m[\u001b[0m\u001b[1;36m1\u001b[0m\u001b[1;33m,\u001b[0m\u001b[1;36m1\u001b[0m\u001b[1;33m]\u001b[0m\u001b[1;33m)\u001b[0m\u001b[1;33m\u001b[0m\u001b[1;33m\u001b[0m\u001b[0m\n\u001b[0m",
      "\u001b[1;32m~\\anaconda3\\envs\\pyocv\\lib\\site-packages\\numpy\\core\\_methods.py\u001b[0m in \u001b[0;36m_sum\u001b[1;34m(a, axis, dtype, out, keepdims, initial, where)\u001b[0m\n\u001b[0;32m     45\u001b[0m def _sum(a, axis=None, dtype=None, out=None, keepdims=False,\n\u001b[0;32m     46\u001b[0m          initial=_NoValue, where=True):\n\u001b[1;32m---> 47\u001b[1;33m     \u001b[1;32mreturn\u001b[0m \u001b[0mumr_sum\u001b[0m\u001b[1;33m(\u001b[0m\u001b[0ma\u001b[0m\u001b[1;33m,\u001b[0m \u001b[0maxis\u001b[0m\u001b[1;33m,\u001b[0m \u001b[0mdtype\u001b[0m\u001b[1;33m,\u001b[0m \u001b[0mout\u001b[0m\u001b[1;33m,\u001b[0m \u001b[0mkeepdims\u001b[0m\u001b[1;33m,\u001b[0m \u001b[0minitial\u001b[0m\u001b[1;33m,\u001b[0m \u001b[0mwhere\u001b[0m\u001b[1;33m)\u001b[0m\u001b[1;33m\u001b[0m\u001b[1;33m\u001b[0m\u001b[0m\n\u001b[0m\u001b[0;32m     48\u001b[0m \u001b[1;33m\u001b[0m\u001b[0m\n\u001b[0;32m     49\u001b[0m def _prod(a, axis=None, dtype=None, out=None, keepdims=False,\n",
      "\u001b[1;31mTypeError\u001b[0m: 'list' object cannot be interpreted as an integer"
     ]
    }
   ],
   "source": [
    "biggest"
   ]
  },
  {
   "cell_type": "code",
   "execution_count": null,
   "id": "7321c94b",
   "metadata": {},
   "outputs": [],
   "source": []
  }
 ],
 "metadata": {
  "kernelspec": {
   "display_name": "Python 3",
   "language": "python",
   "name": "python3"
  },
  "language_info": {
   "codemirror_mode": {
    "name": "ipython",
    "version": 3
   },
   "file_extension": ".py",
   "mimetype": "text/x-python",
   "name": "python",
   "nbconvert_exporter": "python",
   "pygments_lexer": "ipython3",
   "version": "3.8.8"
  }
 },
 "nbformat": 4,
 "nbformat_minor": 5
}
