{
 "cells": [
  {
   "cell_type": "code",
   "execution_count": 3,
   "metadata": {},
   "outputs": [],
   "source": [
    "import numpy as np\n",
    "from sklearn import preprocessing\n",
    "\n",
    "raw_csv_data = np.loadtxt('Audiobooks_data.csv', delimiter = ',')\n"
   ]
  },
  {
   "cell_type": "code",
   "execution_count": 4,
   "metadata": {},
   "outputs": [],
   "source": [
    "# Getting the data set\n",
    "unscaled_inputs_all = raw_csv_data[:,1:-1]\n",
    "target_all = raw_csv_data[:,-1]"
   ]
  },
  {
   "cell_type": "code",
   "execution_count": 10,
   "metadata": {},
   "outputs": [],
   "source": [
    "# balancing the dataset\n",
    "num_one_targets = int(np.sum(target_all))\n",
    "zero_target_counter = 0 \n",
    "indices_to_remove = []\n",
    "\n",
    "# getting the list of indices to be removed\n",
    "for i in range(target_all.shape[0]):\n",
    "    if target_all[i]==0:\n",
    "        zero_target_counter+=1\n",
    "        if zero_target_counter > num_one_targets:\n",
    "            indices_to_remove.append(i)\n",
    "        \n",
    "unscaled_inputs_equal_priors = np.delete(unscaled_inputs_all, indices_to_remove, axis=0)\n",
    "target_equal_priors = np.delete(target_all, indices_to_remove, axis = 0)"
   ]
  },
  {
   "cell_type": "code",
   "execution_count": 13,
   "metadata": {},
   "outputs": [],
   "source": [
    "# standarding the inputs\n",
    "scaled_inputs = preprocessing.scale(unscaled_inputs_equal_priors)"
   ]
  },
  {
   "cell_type": "code",
   "execution_count": 24,
   "metadata": {},
   "outputs": [],
   "source": [
    "# shuffling data7\n",
    "shuffled_indices = np.arange(scaled_inputs.shape[0])\n",
    "np.random.shuffle(shuffled_indices)\n",
    "\n",
    "shuffled_inputs = scaled_inputs[shuffled_indices]\n",
    "shuffled_targets = target_equal_priors[shuffled_indices]"
   ]
  },
  {
   "cell_type": "code",
   "execution_count": 76,
   "metadata": {},
   "outputs": [],
   "source": [
    "# spliting the data into training, validation and test\n",
    "sample_count = shuffled_inputs.shape[0]\n",
    "train_samples_count,validation_samples_count = [x for x in map(int, sample_count * np.array([0.8,0.1]))]\n",
    "test_samples_count = sample_count-train_samples_count-validation_samples_count"
   ]
  },
  {
   "cell_type": "code",
   "execution_count": 77,
   "metadata": {},
   "outputs": [],
   "source": [
    "# inputs slicing \n",
    "train_inputs = shuffled_inputs[:train_samples_count]\n",
    "validation_inputs = shuffled_inputs[train_samples_count:train_samples_count+validation_samples_count]\n",
    "test_inputs = shuffled_inputs[train_samples_count+validation_samples_count:train_samples_count+validation_samples_count+test_samples_count]\n",
    "\n",
    "# targets slicing\n",
    "train_targets = shuffled_targets[:train_samples_count]\n",
    "validation_targets = shuffled_targets[train_samples_count:train_samples_count+validation_samples_count]\n",
    "test_targets = shuffled_targets[train_samples_count+validation_samples_count:train_samples_count+validation_samples_count+test_samples_count]"
   ]
  },
  {
   "cell_type": "code",
   "execution_count": 87,
   "metadata": {},
   "outputs": [
    {
     "name": "stdout",
     "output_type": "stream",
     "text": [
      "Train 50.0% of 3579 rows\n",
      "Validation 52.0% of 447 rows\n",
      "Test 50.0% of 448 rows\n"
     ]
    }
   ],
   "source": [
    "# Checking the distribution\n",
    "print(\"Train \"+str(round(sum(train_targets)/train_targets.shape[0],2)*100)+\"% of \"+str(train_targets.shape[0])+\" rows\")\n",
    "print(\"Validation \"+str(round(sum(validation_targets)/validation_targets.shape[0],2)*100)+\"% of \"+str(validation_targets.shape[0])+\" rows\")\n",
    "print(\"Test \"+str(round(sum(test_targets)/test_targets.shape[0],2)*100)+\"% of \"+str(test_targets.shape[0])+\" rows\")"
   ]
  },
  {
   "cell_type": "code",
   "execution_count": 94,
   "metadata": {},
   "outputs": [],
   "source": [
    "from sklearn.model_selection import train_test_split\n",
    "\n",
    "x, x_test, y, y_test = train_test_split(scaled_inputs,target_equal_priors,test_size=0.1,train_size=0.9,shuffle=True)\n",
    "x_train, x_cv, y_train, y_cv = train_test_split(x,y,test_size = 1/9,train_size =8/9,shuffle=True)"
   ]
  },
  {
   "cell_type": "code",
   "execution_count": 95,
   "metadata": {},
   "outputs": [
    {
     "name": "stdout",
     "output_type": "stream",
     "text": [
      "Train 50.0% of 3578 rows\n",
      "Validation 50.0% of 448 rows\n",
      "Test 48.0% of 448 rows\n"
     ]
    }
   ],
   "source": [
    "# Checking the distribution\n",
    "print(\"Train \"+str(round(sum(y_train)/y_train.shape[0],2)*100)+\"% of \"+str(y_train.shape[0])+\" rows\")\n",
    "print(\"Validation \"+str(round(sum(y_cv)/y_cv.shape[0],2)*100)+\"% of \"+str(y_cv.shape[0])+\" rows\")\n",
    "print(\"Test \"+str(round(sum(y_test)/y_test.shape[0],2)*100)+\"% of \"+str(y_test.shape[0])+\" rows\")"
   ]
  },
  {
   "cell_type": "code",
   "execution_count": 80,
   "metadata": {},
   "outputs": [],
   "source": [
    "# saving into NPZ format for tensorflow\n",
    "np.savez('Audiobooks_data_train',inputs=train_inputs,targets=train_targets)\n",
    "np.savez('Audiobooks_data_validation',inputs=validation_inputs,targets=validation_targets)\n",
    "np.savez('Audiobooks_data_test',inputs=test_inputs,targets=test_targets)"
   ]
  },
  {
   "cell_type": "code",
   "execution_count": 74,
   "metadata": {},
   "outputs": [],
   "source": []
  }
 ],
 "metadata": {
  "kernelspec": {
   "display_name": "PY3-TF2",
   "language": "python",
   "name": "py3-tf2"
  },
  "language_info": {
   "codemirror_mode": {
    "name": "ipython",
    "version": 3
   },
   "file_extension": ".py",
   "mimetype": "text/x-python",
   "name": "python",
   "nbconvert_exporter": "python",
   "pygments_lexer": "ipython3",
   "version": "3.7.6"
  }
 },
 "nbformat": 4,
 "nbformat_minor": 2
}
