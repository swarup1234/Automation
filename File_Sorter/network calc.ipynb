{
 "cells": [
  {
   "cell_type": "code",
   "execution_count": 3,
   "metadata": {},
   "outputs": [],
   "source": [
    "import subprocess\n",
    "import re\n",
    "\n",
    "links = subprocess.run('netsh wlan show profiles'.split(' '), capture_output=True).stdout.decode()\n",
    "\n",
    "ssids = re.findall(\"All User Profile     : (.*)\\r\",links)\n",
    "\n",
    "ssid_dict = {}\n",
    "\n",
    "for ssid in ssids:\n",
    "    out = subprocess.run(('netsh wlan show profile'.split(' ')+[ssid]+\"key=clear\".split(' ')), capture_output=True).stdout.decode()\n",
    "    try: \n",
    "        if re.findall(\"Security key           : (.*)\\r\",out)[0]=='Present':\n",
    "            ssid_dict[ssid]  = re.findall(\"Key Content            : (.*)\\r\",out)[0]\n",
    "    except IndexError:\n",
    "        pass\n",
    "\n"
   ]
  },
  {
   "cell_type": "code",
   "execution_count": 4,
   "metadata": {},
   "outputs": [
    {
     "name": "stdout",
     "output_type": "stream",
     "text": [
      "{'dlink-35F0': 'czzbj20930', 'Vasu2': 'BAND@123456', 'Vasu': 'band@123456', 'JioFi3_431E98': 'f1w099tc6u', 'Murali Krishna': 'kspp0807', 'moto g(6) plus 8936': 'c15faeac535a', 'Moto G (5S) Plus 5760': 'band@1234'}\n"
     ]
    }
   ],
   "source": [
    "print(ssid_dict)"
   ]
  },
  {
   "cell_type": "code",
   "execution_count": null,
   "metadata": {},
   "outputs": [],
   "source": []
  }
 ],
 "metadata": {
  "kernelspec": {
   "display_name": "Python 3",
   "language": "python",
   "name": "python3"
  },
  "language_info": {
   "codemirror_mode": {
    "name": "ipython",
    "version": 3
   },
   "file_extension": ".py",
   "mimetype": "text/x-python",
   "name": "python",
   "nbconvert_exporter": "python",
   "pygments_lexer": "ipython3",
   "version": "3.7.4"
  }
 },
 "nbformat": 4,
 "nbformat_minor": 2
}
